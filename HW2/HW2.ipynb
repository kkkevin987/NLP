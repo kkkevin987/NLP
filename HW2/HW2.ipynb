{
 "cells": [
  {
   "cell_type": "code",
   "execution_count": 22,
   "source": [
    "import requests\r\n",
    "from bs4 import BeautifulSoup\r\n",
    "import csv\r\n",
    "\r\n",
    "\r\n",
    "url = 'https://movies.yahoo.com.tw/movie_thisweek.html'\r\n",
    "response = requests.get(url=url)\r\n",
    "\r\n",
    "soup = BeautifulSoup(response.text, 'lxml')\r\n",
    "\r\n",
    "info_items = soup.find_all('div', 'release_info')\r\n",
    "\r\n",
    "with open('本週新片.csv', 'w', encoding='big5', newline='') as csv_file:\r\n",
    "    \r\n",
    "    csv_writer = csv.writer(csv_file)\r\n",
    "    csv_writer.writerow(['電影片名', '電影英文片名', '上映時間', '網友期待度'])\r\n",
    "\r\n",
    "    for item in info_items:\r\n",
    "\r\n",
    "        name = item.find('div', 'release_movie_name').a.text.strip()\r\n",
    "        english_name = item.find('div', 'en').a.text.strip()\r\n",
    "        release_time = item.find('div', 'release_movie_time').text.split('：')[-1].strip()\r\n",
    "        level = item.find('div', 'leveltext').span.text.strip()\r\n",
    "        \r\n",
    "        csv_writer.writerow([name, english_name, release_time, level])\r\n",
    "        print('{}({}) 上映日：{} 期待度：{}'.format(name, english_name, release_time, level))"
   ],
   "outputs": [
    {
     "output_type": "stream",
     "name": "stdout",
     "text": [
      "玩命關頭9(Fast & Furious 9) 上映日：2021-08-11 期待度：92%\n",
      "脫稿玩家(Original title: Free Guy) 上映日：2021-08-12 期待度：100%\n",
      "被偷走的童年(When Hitler Stole Pink Rabbit) 上映日：2021-08-13 期待度：98%\n",
      "感動她77次(77 Heartwarmings) 上映日：2021-08-13 期待度：99%\n",
      "汪汪隊立大功電影版(PAW Patrol: The Movie) 上映日：2021-08-13 期待度：100%\n",
      "第六感追緝令(Basic Instinct) 上映日：2021-08-13 期待度：100%\n",
      "未來之書(The Book of Vision) 上映日：2021-08-13 期待度：100%\n"
     ]
    }
   ],
   "metadata": {}
  },
  {
   "cell_type": "code",
   "execution_count": 21,
   "source": [
    "import requests\r\n",
    "import re\r\n",
    "from bs4 import BeautifulSoup\r\n",
    "import pandas as pd\r\n",
    "\r\n",
    "url = 'https://movies.yahoo.com.tw/'\r\n",
    "resp = requests.get(url)\r\n",
    "resp.encoding = 'utf-8'\r\n",
    "#print(resp.text)\r\n",
    "\r\n",
    "soup = BeautifulSoup(resp.text, 'lxml')\r\n",
    "movie_html = soup.find(\"select\", attrs={'name':'movie_id'})\r\n",
    "print(movie_html)\r\n",
    "\r\n",
    "title_list = []\r\n",
    "id_list = []\r\n",
    "\r\n",
    "for info in movie_item:\r\n",
    "     print(info)\r\n",
    "     print(type(info))\r\n",
    "     print(\"Movie: {}, ID: {}\".format(info[\"data-name\"], info[\"value\"]))\r\n",
    "    \r\n",
    "     id_list.append(info[\"value\"])\r\n",
    "     title_list.append(info[\"data-name\"])\r\n"
   ],
   "outputs": [
    {
     "output_type": "stream",
     "name": "stdout",
     "text": [
      "<select class=\"movie_name\" id=\"sbox_mid\" name=\"movie_id\">\n",
      "<option value=\"\">請選擇片名</option>\n",
      "<option data-name=\"脫稿玩家\" value=\"11445\">脫稿玩家</option>\n",
      "<option data-name=\"玩命關頭9\" value=\"10482\">玩命關頭9</option>\n",
      "<option data-name=\"青春：第50屆日本全國高中棒球錦標賽\" value=\"11450\">青春：第50屆日本全國高中棒球錦標賽</option>\n",
      "<option data-name=\"甲子園：夢想競技場\" value=\"11449\">甲子園：夢想競技場</option>\n",
      "<option data-name=\"合法伴侶\" value=\"11441\">合法伴侶</option>\n",
      "<option data-name=\"雙面薇若妮卡 經典數位修復\" value=\"11425\">雙面薇若妮卡 經典數位修復</option>\n",
      "<option data-name=\"人聲\" value=\"11400\">人聲</option>\n",
      "<option data-name=\"薄荷糖\" value=\"11368\">薄荷糖</option>\n",
      "<option data-name=\"路卡的夏天\" value=\"11268\">路卡的夏天</option>\n",
      "<option data-name=\"驅魔禁區\" value=\"11439\">驅魔禁區</option>\n",
      "<option data-name=\"自殺突擊隊：集結\" value=\"11328\">自殺突擊隊：集結</option>\n",
      "<option data-name=\"怪奇大廈\" value=\"11438\">怪奇大廈</option>\n",
      "<option data-name=\"太陽出來之後\" value=\"11435\">太陽出來之後</option>\n",
      "<option data-name=\"理髮師的男人 經典數位修復\" value=\"11429\">理髮師的男人 經典數位修復</option>\n",
      "<option data-name=\"破碎的瞬間\" value=\"11421\">破碎的瞬間</option>\n",
      "<option data-name=\"罪之聲\" value=\"11420\">罪之聲</option>\n",
      "<option data-name=\"詭老\" value=\"11409\">詭老</option>\n",
      "<option data-name=\"淘寶少年\" value=\"11396\">淘寶少年</option>\n",
      "<option data-name=\"小王子公主心\" value=\"11389\">小王子公主心</option>\n",
      "<option data-name=\"LIP X LIP享受這世界的方法\" value=\"11364\">LIP X LIP享受這世界的方法</option>\n",
      "<option data-name=\"叢林奇航\" value=\"10315\">叢林奇航</option>\n",
      "<option data-name=\"極速引爆\" value=\"11428\">極速引爆</option>\n",
      "<option data-name=\"手捲煙\" value=\"11424\">手捲煙</option>\n",
      "<option data-name=\"群青戰記\" value=\"11397\">群青戰記</option>\n",
      "<option data-name=\"厲陰宅3：是惡魔逼我的\" value=\"11376\">厲陰宅3：是惡魔逼我的</option>\n",
      "<option data-name=\"花束般的戀愛\" value=\"11391\">花束般的戀愛</option>\n",
      "<option data-name=\"貝加爾湖隱居札記：在這喧囂的世界，一個人到西伯利亞森林住半年\" value=\"11375\">貝加爾湖隱居札記：在這喧囂的世界，一個人到西伯利亞森林住半年</option>\n",
      "<option data-name=\"怪物奇兵 全新世代\" value=\"11342\">怪物奇兵 全新世代</option>\n",
      "<option data-name=\"韓國校園恐怖怪談：點名沒到的學生\" value=\"11426\">韓國校園恐怖怪談：點名沒到的學生</option>\n",
      "<option data-name=\"燕尾蝶：數位經典版\" value=\"11332\">燕尾蝶：數位經典版</option>\n",
      "<option data-name=\"野蠻糾碴隊\" value=\"11300\">野蠻糾碴隊</option>\n",
      "<option data-name=\"失控的審判\" value=\"11201\">失控的審判</option>\n",
      "<option data-name=\"黑寡婦\" value=\"10397\">黑寡婦</option>\n",
      "<option data-name=\"玩命鈔劫\" value=\"11340\">玩命鈔劫</option>\n",
      "<option data-name=\"死亡漩渦：奪魂鋸新遊戲\" value=\"11311\">死亡漩渦：奪魂鋸新遊戲</option>\n",
      "<option data-name=\"名偵探柯南：緋色的彈丸\" value=\"11206\">名偵探柯南：緋色的彈丸</option>\n",
      "<option data-name=\"阿依達的救援行動\" value=\"11365\">阿依達的救援行動</option>\n",
      "<option data-name=\"一級任務\" value=\"11346\">一級任務</option>\n",
      "<option data-name=\"真．鮫島事件\" value=\"11338\">真．鮫島事件</option>\n",
      "<option data-name=\"聽見歌 再唱\" value=\"11232\">聽見歌 再唱</option>\n",
      "<option data-name=\"永生戰\" value=\"11073\">永生戰</option>\n",
      "<option data-name=\"殺戮輪迴\" value=\"11327\">殺戮輪迴</option>\n",
      "<option data-name=\"私刑救援\" value=\"11263\">私刑救援</option>\n",
      "<option data-name=\"真人快打\" value=\"11254\">真人快打</option>\n",
      "<option data-name=\"誰殺了大個子\" value=\"11296\">誰殺了大個子</option>\n",
      "<option data-name=\"警慌失措\" value=\"11295\">警慌失措</option>\n",
      "<option data-name=\"南巫\" value=\"11258\">南巫</option>\n",
      "<option data-name=\"當男人戀愛時\" value=\"11255\">當男人戀愛時</option>\n",
      "<option data-name=\"無名弒\" value=\"11126\">無名弒</option>\n",
      "<option data-name=\"波麗萊多里鬼屋\" value=\"11242\">波麗萊多里鬼屋</option>\n",
      "<option data-name=\"揭大歡喜\" value=\"11171\">揭大歡喜</option>\n",
      "<option data-name=\"花漾女子\" value=\"10519\">花漾女子</option>\n",
      "<option data-name=\"東經北緯\" value=\"11222\">東經北緯</option>\n",
      "<option data-name=\"刺殺小說家\" value=\"11205\">刺殺小說家</option>\n",
      "<option data-name=\"複身犯\" value=\"11160\">複身犯</option>\n",
      "<option data-name=\"我沒有談的那場戀愛\" value=\"11159\">我沒有談的那場戀愛</option>\n",
      "<option data-name=\"湯姆貓與傑利鼠\" value=\"11072\">湯姆貓與傑利鼠</option>\n",
      "<option data-name=\"角頭–浪流連\" value=\"11162\">角頭–浪流連</option>\n",
      "<option data-name=\"靈魂急轉彎\" value=\"11089\">靈魂急轉彎</option>\n",
      "<option data-name=\"魔王的女兒\" value=\"10730\">魔王的女兒</option>\n",
      "</select>\n"
     ]
    },
    {
     "output_type": "error",
     "ename": "NameError",
     "evalue": "name 'movie_item' is not defined",
     "traceback": [
      "\u001b[1;31m---------------------------------------------------------------------------\u001b[0m",
      "\u001b[1;31mNameError\u001b[0m                                 Traceback (most recent call last)",
      "\u001b[1;32m~\\AppData\\Local\\Temp/ipykernel_20448/2493005145.py\u001b[0m in \u001b[0;36m<module>\u001b[1;34m\u001b[0m\n\u001b[0;32m     16\u001b[0m \u001b[0mid_list\u001b[0m \u001b[1;33m=\u001b[0m \u001b[1;33m[\u001b[0m\u001b[1;33m]\u001b[0m\u001b[1;33m\u001b[0m\u001b[1;33m\u001b[0m\u001b[0m\n\u001b[0;32m     17\u001b[0m \u001b[1;33m\u001b[0m\u001b[0m\n\u001b[1;32m---> 18\u001b[1;33m \u001b[1;32mfor\u001b[0m \u001b[0minfo\u001b[0m \u001b[1;32min\u001b[0m \u001b[0mmovie_item\u001b[0m\u001b[1;33m:\u001b[0m\u001b[1;33m\u001b[0m\u001b[1;33m\u001b[0m\u001b[0m\n\u001b[0m\u001b[0;32m     19\u001b[0m      \u001b[0mprint\u001b[0m\u001b[1;33m(\u001b[0m\u001b[0minfo\u001b[0m\u001b[1;33m)\u001b[0m\u001b[1;33m\u001b[0m\u001b[1;33m\u001b[0m\u001b[0m\n\u001b[0;32m     20\u001b[0m      \u001b[0mprint\u001b[0m\u001b[1;33m(\u001b[0m\u001b[0mtype\u001b[0m\u001b[1;33m(\u001b[0m\u001b[0minfo\u001b[0m\u001b[1;33m)\u001b[0m\u001b[1;33m)\u001b[0m\u001b[1;33m\u001b[0m\u001b[1;33m\u001b[0m\u001b[0m\n",
      "\u001b[1;31mNameError\u001b[0m: name 'movie_item' is not defined"
     ]
    }
   ],
   "metadata": {}
  },
  {
   "cell_type": "code",
   "execution_count": null,
   "source": [],
   "outputs": [],
   "metadata": {}
  }
 ],
 "metadata": {
  "orig_nbformat": 4,
  "language_info": {
   "name": "python",
   "version": "3.8.10",
   "mimetype": "text/x-python",
   "codemirror_mode": {
    "name": "ipython",
    "version": 3
   },
   "pygments_lexer": "ipython3",
   "nbconvert_exporter": "python",
   "file_extension": ".py"
  },
  "kernelspec": {
   "name": "python3",
   "display_name": "Python 3.8.10 64-bit (windows store)"
  },
  "interpreter": {
   "hash": "3051ae9942b906cdf820b6b0c285c9331d922b864c5bb0114b1d4a4cfe958208"
  }
 },
 "nbformat": 4,
 "nbformat_minor": 2
}