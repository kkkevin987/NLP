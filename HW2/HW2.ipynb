{
 "cells": [
  {
   "cell_type": "code",
   "execution_count": 9,
   "source": [
    "import csv\r\n",
    "import requests\r\n",
    "from bs4 import BeautifulSoup\r\n",
    "\r\n",
    "url = 'https://movies.yahoo.com.tw/movie_thisweek.html'\r\n",
    "response = requests.get(url=url)\r\n",
    "\r\n",
    "soup = BeautifulSoup(response.text, 'lxml')\r\n",
    "\r\n",
    "info_items = soup.find_all('div', 'release_info')\r\n",
    "\r\n",
    "with open('本週新片.csv', 'w', encoding='utf-8', newline='') as csv_file:\r\n",
    "    \r\n",
    "    csv_writer = csv.writer(csv_file)\r\n",
    "    csv_writer.writerow(['電影片名', '電影英文片名', '上映時間', '網友期待度'])\r\n",
    "\r\n",
    "    for item in info_items:\r\n",
    "\r\n",
    "        name = item.find('div', 'release_movie_name').a.text.strip()\r\n",
    "        english_name = item.find('div', 'en').a.text.strip()\r\n",
    "        release_time = item.find('div', 'release_movie_time').text.split('：')[-1].strip()\r\n",
    "        level = item.find('div', 'leveltext').span.text.strip()\r\n",
    "        \r\n",
    "        csv_writer.writerow([name, english_name, release_time, level])\r\n",
    "        print('{}({}) 上映日：{} 期待度：{}'.format(name, english_name, release_time, level))"
   ],
   "outputs": [
    {
     "output_type": "stream",
     "name": "stdout",
     "text": [
      "玩命關頭9(Fast & Furious 9) 上映日：2021-08-11 期待度：92%\n",
      "脫稿玩家(Original title: Free Guy) 上映日：2021-08-12 期待度：100%\n",
      "被偷走的童年(When Hitler Stole Pink Rabbit) 上映日：2021-08-13 期待度：98%\n",
      "感動她77次(77 Heartwarmings) 上映日：2021-08-13 期待度：99%\n",
      "汪汪隊立大功電影版(PAW Patrol: The Movie) 上映日：2021-08-13 期待度：100%\n",
      "第六感追緝令(Basic Instinct) 上映日：2021-08-13 期待度：100%\n",
      "未來之書(The Book of Vision) 上映日：2021-08-13 期待度：100%\n"
     ]
    }
   ],
   "metadata": {}
  }
 ],
 "metadata": {
  "orig_nbformat": 4,
  "language_info": {
   "name": "python",
   "version": "3.8.10",
   "mimetype": "text/x-python",
   "codemirror_mode": {
    "name": "ipython",
    "version": 3
   },
   "pygments_lexer": "ipython3",
   "nbconvert_exporter": "python",
   "file_extension": ".py"
  },
  "kernelspec": {
   "name": "python3",
   "display_name": "Python 3.8.10 64-bit (windows store)"
  },
  "interpreter": {
   "hash": "3051ae9942b906cdf820b6b0c285c9331d922b864c5bb0114b1d4a4cfe958208"
  }
 },
 "nbformat": 4,
 "nbformat_minor": 2
}