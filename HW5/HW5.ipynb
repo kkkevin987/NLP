{
 "cells": [
  {
   "cell_type": "code",
   "execution_count": 1,
   "source": [
    "from bs4 import BeautifulSoup\r\n",
    "import requests\r\n",
    "import pandas as pd\r\n",
    "import re\r\n",
    "from collections import OrderedDict\r\n",
    "\r\n",
    "print(\"Hello World\")"
   ],
   "outputs": [
    {
     "output_type": "stream",
     "name": "stdout",
     "text": [
      "Hello World\n"
     ]
    }
   ],
   "metadata": {}
  },
  {
   "cell_type": "code",
   "execution_count": 2,
   "source": [
    "a='https://www.kktv.me'\r\n",
    "typehref = []\r\n",
    "country = ['Korea','Taiwan','China','Japan']\r\n",
    "def find_href():\r\n",
    "    for cou in country:\r\n",
    "        for pages in range(10):\r\n",
    "            url= 'https://www.kktv.me/browse/genre/戲劇/page/'+str(pages+1)+'?country='+cou+'&sort=latest'\r\n",
    "            r = requests.get(url)\r\n",
    "            soup=(BeautifulSoup(r.text))\r\n",
    "            for d in soup.find_all('div', class_=\"cover-view__header\"):\r\n",
    "                typehref.append(a+d.find('a', class_='cover-view__img')['href'])\r\n",
    "        \r\n",
    "    for cou in country:\r\n",
    "        for pages in range(4):\r\n",
    "            url= 'https://www.kktv.me/browse/genre/戲劇/page/'+str(pages+1)+'?country='+cou+'&sort=latest'\r\n",
    "            r = requests.get(url)\r\n",
    "            soup=(BeautifulSoup(r.text))\r\n",
    "            for d in soup.find_all('div', class_=\"cover-view__header\"):\r\n",
    "                typehref.append(a+d.find('a', class_='cover-view__img')['href'])\r\n",
    "    \r\n",
    "    typehrefdel=list(OrderedDict.fromkeys(typehref))\r\n",
    "    print(len(typehrefdel))\r\n",
    "    return(typehrefdel)\r\n",
    "    \r\n",
    "href = find_href()"
   ],
   "outputs": [
    {
     "output_type": "stream",
     "name": "stdout",
     "text": [
      "538\n"
     ]
    }
   ],
   "metadata": {}
  },
  {
   "cell_type": "code",
   "execution_count": 6,
   "source": [],
   "outputs": [
    {
     "output_type": "error",
     "ename": "IndentationError",
     "evalue": "unexpected indent (Temp/ipykernel_6992/574037471.py, line 2)",
     "traceback": [
      "\u001b[1;36m  File \u001b[1;32m\"C:\\Users\\聖凱\\AppData\\Local\\Temp/ipykernel_6992/574037471.py\"\u001b[1;36m, line \u001b[1;32m2\u001b[0m\n\u001b[1;33m    for a in href:\u001b[0m\n\u001b[1;37m    ^\u001b[0m\n\u001b[1;31mIndentationError\u001b[0m\u001b[1;31m:\u001b[0m unexpected indent\n"
     ]
    }
   ],
   "metadata": {}
  }
 ],
 "metadata": {
  "orig_nbformat": 4,
  "language_info": {
   "name": "python",
   "version": "3.8.10",
   "mimetype": "text/x-python",
   "codemirror_mode": {
    "name": "ipython",
    "version": 3
   },
   "pygments_lexer": "ipython3",
   "nbconvert_exporter": "python",
   "file_extension": ".py"
  },
  "kernelspec": {
   "name": "python3",
   "display_name": "Python 3.8.10 64-bit (windows store)"
  },
  "interpreter": {
   "hash": "3051ae9942b906cdf820b6b0c285c9331d922b864c5bb0114b1d4a4cfe958208"
  }
 },
 "nbformat": 4,
 "nbformat_minor": 2
}