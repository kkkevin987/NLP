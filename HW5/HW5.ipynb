{
 "cells": [
  {
   "cell_type": "code",
   "execution_count": 4,
   "source": [
    "from bs4 import BeautifulSoup\r\n",
    "\r\n",
    "print(\"Hello World\")"
   ],
   "outputs": [
    {
     "output_type": "stream",
     "name": "stdout",
     "text": [
      "Hello World\n"
     ]
    }
   ],
   "metadata": {}
  },
  {
   "cell_type": "code",
   "execution_count": 5,
   "source": [
    "a='https://www.kktv.me'\r\n",
    "typehref = []\r\n",
    "country = ['Korea','Taiwan','China','Japan']\r\n",
    "def find_href():\r\n",
    "    for cou in country:\r\n",
    "        for pages in range(10):\r\n",
    "            url= 'https://www.kktv.me/browse/genre/戲劇/page/'+str(pages+1)+'?country='+cou+'&sort=latest'\r\n",
    "            r = requests.get(url)\r\n",
    "            soup=(BeautifulSoup(r.text))\r\n",
    "            for d in soup.find_all('div', class_=\"cover-view__header\"):\r\n",
    "                typehref.append(a+d.find('a', class_='cover-view__img')['href'])\r\n",
    "        \r\n",
    "    for cou in country:\r\n",
    "        for pages in range(4):\r\n",
    "            url= 'https://www.kktv.me/browse/genre/戲劇/page/'+str(pages+1)+'?country='+cou+'&sort=latest'\r\n",
    "            r = requests.get(url)\r\n",
    "            soup=(BeautifulSoup(r.text))\r\n",
    "            for d in soup.find_all('div', class_=\"cover-view__header\"):\r\n",
    "                typehref.append(a+d.find('a', class_='cover-view__img')['href'])\r\n",
    "    \r\n",
    "    typehrefdel=list(OrderedDict.fromkeys(typehref))\r\n",
    "    print(len(typehrefdel))\r\n",
    "    return(typehrefdel)\r\n",
    "    \r\n",
    "href = find_href()"
   ],
   "outputs": [
    {
     "output_type": "error",
     "ename": "NameError",
     "evalue": "name 'requests' is not defined",
     "traceback": [
      "\u001b[1;31m---------------------------------------------------------------------------\u001b[0m",
      "\u001b[1;31mNameError\u001b[0m                                 Traceback (most recent call last)",
      "\u001b[1;32m~\\AppData\\Local\\Temp/ipykernel_6992/2363451340.py\u001b[0m in \u001b[0;36m<module>\u001b[1;34m\u001b[0m\n\u001b[0;32m     23\u001b[0m     \u001b[1;32mreturn\u001b[0m\u001b[1;33m(\u001b[0m\u001b[0mtypehrefdel\u001b[0m\u001b[1;33m)\u001b[0m\u001b[1;33m\u001b[0m\u001b[1;33m\u001b[0m\u001b[0m\n\u001b[0;32m     24\u001b[0m \u001b[1;33m\u001b[0m\u001b[0m\n\u001b[1;32m---> 25\u001b[1;33m \u001b[0mhref\u001b[0m \u001b[1;33m=\u001b[0m \u001b[0mfind_href\u001b[0m\u001b[1;33m(\u001b[0m\u001b[1;33m)\u001b[0m\u001b[1;33m\u001b[0m\u001b[1;33m\u001b[0m\u001b[0m\n\u001b[0m",
      "\u001b[1;32m~\\AppData\\Local\\Temp/ipykernel_6992/2363451340.py\u001b[0m in \u001b[0;36mfind_href\u001b[1;34m()\u001b[0m\n\u001b[0;32m      6\u001b[0m         \u001b[1;32mfor\u001b[0m \u001b[0mpages\u001b[0m \u001b[1;32min\u001b[0m \u001b[0mrange\u001b[0m\u001b[1;33m(\u001b[0m\u001b[1;36m10\u001b[0m\u001b[1;33m)\u001b[0m\u001b[1;33m:\u001b[0m\u001b[1;33m\u001b[0m\u001b[1;33m\u001b[0m\u001b[0m\n\u001b[0;32m      7\u001b[0m             \u001b[0murl\u001b[0m\u001b[1;33m=\u001b[0m \u001b[1;34m'https://www.kktv.me/browse/genre/戲劇/page/'\u001b[0m\u001b[1;33m+\u001b[0m\u001b[0mstr\u001b[0m\u001b[1;33m(\u001b[0m\u001b[0mpages\u001b[0m\u001b[1;33m+\u001b[0m\u001b[1;36m1\u001b[0m\u001b[1;33m)\u001b[0m\u001b[1;33m+\u001b[0m\u001b[1;34m'?country='\u001b[0m\u001b[1;33m+\u001b[0m\u001b[0mcou\u001b[0m\u001b[1;33m+\u001b[0m\u001b[1;34m'&sort=latest'\u001b[0m\u001b[1;33m\u001b[0m\u001b[1;33m\u001b[0m\u001b[0m\n\u001b[1;32m----> 8\u001b[1;33m             \u001b[0mr\u001b[0m \u001b[1;33m=\u001b[0m \u001b[0mrequests\u001b[0m\u001b[1;33m.\u001b[0m\u001b[0mget\u001b[0m\u001b[1;33m(\u001b[0m\u001b[0murl\u001b[0m\u001b[1;33m)\u001b[0m\u001b[1;33m\u001b[0m\u001b[1;33m\u001b[0m\u001b[0m\n\u001b[0m\u001b[0;32m      9\u001b[0m             \u001b[0msoup\u001b[0m\u001b[1;33m=\u001b[0m\u001b[1;33m(\u001b[0m\u001b[0mBeautifulSoup\u001b[0m\u001b[1;33m(\u001b[0m\u001b[0mr\u001b[0m\u001b[1;33m.\u001b[0m\u001b[0mtext\u001b[0m\u001b[1;33m)\u001b[0m\u001b[1;33m)\u001b[0m\u001b[1;33m\u001b[0m\u001b[1;33m\u001b[0m\u001b[0m\n\u001b[0;32m     10\u001b[0m             \u001b[1;32mfor\u001b[0m \u001b[0md\u001b[0m \u001b[1;32min\u001b[0m \u001b[0msoup\u001b[0m\u001b[1;33m.\u001b[0m\u001b[0mfind_all\u001b[0m\u001b[1;33m(\u001b[0m\u001b[1;34m'div'\u001b[0m\u001b[1;33m,\u001b[0m \u001b[0mclass_\u001b[0m\u001b[1;33m=\u001b[0m\u001b[1;34m\"cover-view__header\"\u001b[0m\u001b[1;33m)\u001b[0m\u001b[1;33m:\u001b[0m\u001b[1;33m\u001b[0m\u001b[1;33m\u001b[0m\u001b[0m\n",
      "\u001b[1;31mNameError\u001b[0m: name 'requests' is not defined"
     ]
    }
   ],
   "metadata": {}
  },
  {
   "cell_type": "code",
   "execution_count": 6,
   "source": [
    "exe= []\r\n",
    "    for a in href:\r\n",
    "        url=a\r\n",
    "        r = requests.get(url)\r\n",
    "        so = BeautifulSoup(r.text)\r\n",
    "\r\n",
    "        name=so.find('h1',class_='detail-content__title').text.strip()\r\n",
    "\r\n",
    "        types = ''\r\n",
    "        for c in so.find_all('div',class_='intro-casts__item'):\r\n",
    "            for d in c.find('span', class_='intro-casts__caption'):\r\n",
    "                if d.text == '戲劇類型':\r\n",
    "                    types = c.find('a',class_='intro-casts__link').text\r\n",
    "        \r\n",
    "        # ch =re.compile(\"[\\u4e00-\\u9fa5]\")\r\n",
    "        ch =re.compile(\"[\\u4e00-\\u9fa5]\")\r\n",
    "        article = so.find('div', class_='intro-summary').text\r\n",
    "        article = r\"\".join(ch.findall(article))\r\n",
    "\r\n",
    "        exesin=(name,types,article)\r\n",
    "        exe.append(exesin)\r\n",
    "\r\n",
    "\r\n",
    "print(\"tset\")\r\n",
    "print(\"v1__2\")"
   ],
   "outputs": [
    {
     "output_type": "error",
     "ename": "IndentationError",
     "evalue": "unexpected indent (Temp/ipykernel_6992/574037471.py, line 2)",
     "traceback": [
      "\u001b[1;36m  File \u001b[1;32m\"C:\\Users\\聖凱\\AppData\\Local\\Temp/ipykernel_6992/574037471.py\"\u001b[1;36m, line \u001b[1;32m2\u001b[0m\n\u001b[1;33m    for a in href:\u001b[0m\n\u001b[1;37m    ^\u001b[0m\n\u001b[1;31mIndentationError\u001b[0m\u001b[1;31m:\u001b[0m unexpected indent\n"
     ]
    }
   ],
   "metadata": {}
  }
 ],
 "metadata": {
  "orig_nbformat": 4,
  "language_info": {
   "name": "python",
   "version": "3.8.10",
   "mimetype": "text/x-python",
   "codemirror_mode": {
    "name": "ipython",
    "version": 3
   },
   "pygments_lexer": "ipython3",
   "nbconvert_exporter": "python",
   "file_extension": ".py"
  },
  "kernelspec": {
   "name": "python3",
   "display_name": "Python 3.8.10 64-bit (windows store)"
  },
  "interpreter": {
   "hash": "3051ae9942b906cdf820b6b0c285c9331d922b864c5bb0114b1d4a4cfe958208"
  }
 },
 "nbformat": 4,
 "nbformat_minor": 2
}