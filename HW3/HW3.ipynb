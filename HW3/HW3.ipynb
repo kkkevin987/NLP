{
 "cells": [
  {
   "cell_type": "code",
   "execution_count": 4,
   "source": [
    "import requests\r\n",
    "from bs4 import BeautifulSoup\r\n",
    "import csv\r\n",
    "\r\n",
    "url = 'https://movies.yahoo.com.tw/movie_thisweek.html'\r\n",
    "\r\n",
    "response = requests.get(url=url)\r\n",
    "\r\n",
    "soup = BeautifulSoup(response.text, 'lxml')\r\n",
    "\r\n",
    "info_items = soup.find_all('div', 'release_info')\r\n",
    "\r\n",
    "print(\"HW3 test\")\r\n",
    "\r\n",
    "with open('本週新片.csv', 'w', encoding='big5', newline='') as csv_file:\r\n",
    "    \r\n",
    "    csv_writer = csv.writer(csv_file)\r\n",
    "    csv_writer.writerow(['電影片名', '電影英文片名', '上映時間', '網友期待度'])\r\n",
    "\r\n",
    "    for item in info_items:\r\n",
    "\r\n",
    "        name = item.find('div', 'release_movie_name').a.text.strip()\r\n",
    "        english_name = item.find('div', 'en').a.text.strip()\r\n",
    "        release_time = item.find('div', 'release_movie_time').text.split('：')[-1].strip()\r\n",
    "        level = item.find('div', 'leveltext').span.text.strip()\r\n",
    "        \r\n",
    "        csv_writer.writerow([name, english_name, release_time, level])\r\n",
    "        print('{}({}) 上映日：{} 期待度：{}'.format(name, english_name, release_time, level))"
   ],
   "outputs": [
    {
     "output_type": "stream",
     "name": "stdout",
     "text": [
      "HW3 test\n",
      "追憶人(Reminiscence) 上映日：2021-08-19 期待度：90%\n",
      "期末考(Final Exam) 上映日：2021-08-20 期待度：85%\n"
     ]
    },
    {
     "output_type": "error",
     "ename": "UnicodeEncodeError",
     "evalue": "'big5' codec can't encode character '\\u9b2a' in position 11: illegal multibyte sequence",
     "traceback": [
      "\u001b[1;31m---------------------------------------------------------------------------\u001b[0m",
      "\u001b[1;31mUnicodeEncodeError\u001b[0m                        Traceback (most recent call last)",
      "\u001b[1;32m~\\AppData\\Local\\Temp/ipykernel_14860/4167175879.py\u001b[0m in \u001b[0;36m<module>\u001b[1;34m\u001b[0m\n\u001b[0;32m     25\u001b[0m         \u001b[0mlevel\u001b[0m \u001b[1;33m=\u001b[0m \u001b[0mitem\u001b[0m\u001b[1;33m.\u001b[0m\u001b[0mfind\u001b[0m\u001b[1;33m(\u001b[0m\u001b[1;34m'div'\u001b[0m\u001b[1;33m,\u001b[0m \u001b[1;34m'leveltext'\u001b[0m\u001b[1;33m)\u001b[0m\u001b[1;33m.\u001b[0m\u001b[0mspan\u001b[0m\u001b[1;33m.\u001b[0m\u001b[0mtext\u001b[0m\u001b[1;33m.\u001b[0m\u001b[0mstrip\u001b[0m\u001b[1;33m(\u001b[0m\u001b[1;33m)\u001b[0m\u001b[1;33m\u001b[0m\u001b[1;33m\u001b[0m\u001b[0m\n\u001b[0;32m     26\u001b[0m \u001b[1;33m\u001b[0m\u001b[0m\n\u001b[1;32m---> 27\u001b[1;33m         \u001b[0mcsv_writer\u001b[0m\u001b[1;33m.\u001b[0m\u001b[0mwriterow\u001b[0m\u001b[1;33m(\u001b[0m\u001b[1;33m[\u001b[0m\u001b[0mname\u001b[0m\u001b[1;33m,\u001b[0m \u001b[0menglish_name\u001b[0m\u001b[1;33m,\u001b[0m \u001b[0mrelease_time\u001b[0m\u001b[1;33m,\u001b[0m \u001b[0mlevel\u001b[0m\u001b[1;33m]\u001b[0m\u001b[1;33m)\u001b[0m\u001b[1;33m\u001b[0m\u001b[1;33m\u001b[0m\u001b[0m\n\u001b[0m\u001b[0;32m     28\u001b[0m         \u001b[0mprint\u001b[0m\u001b[1;33m(\u001b[0m\u001b[1;34m'{}({}) 上映日：{} 期待度：{}'\u001b[0m\u001b[1;33m.\u001b[0m\u001b[0mformat\u001b[0m\u001b[1;33m(\u001b[0m\u001b[0mname\u001b[0m\u001b[1;33m,\u001b[0m \u001b[0menglish_name\u001b[0m\u001b[1;33m,\u001b[0m \u001b[0mrelease_time\u001b[0m\u001b[1;33m,\u001b[0m \u001b[0mlevel\u001b[0m\u001b[1;33m)\u001b[0m\u001b[1;33m)\u001b[0m\u001b[1;33m\u001b[0m\u001b[1;33m\u001b[0m\u001b[0m\n",
      "\u001b[1;31mUnicodeEncodeError\u001b[0m: 'big5' codec can't encode character '\\u9b2a' in position 11: illegal multibyte sequence"
     ]
    }
   ],
   "metadata": {}
  },
  {
   "cell_type": "code",
   "execution_count": null,
   "source": [],
   "outputs": [],
   "metadata": {}
  }
 ],
 "metadata": {
  "orig_nbformat": 4,
  "language_info": {
   "name": "python",
   "version": "3.8.10",
   "mimetype": "text/x-python",
   "codemirror_mode": {
    "name": "ipython",
    "version": 3
   },
   "pygments_lexer": "ipython3",
   "nbconvert_exporter": "python",
   "file_extension": ".py"
  },
  "kernelspec": {
   "name": "python3",
   "display_name": "Python 3.8.10 64-bit (windows store)"
  },
  "interpreter": {
   "hash": "3051ae9942b906cdf820b6b0c285c9331d922b864c5bb0114b1d4a4cfe958208"
  }
 },
 "nbformat": 4,
 "nbformat_minor": 2
}